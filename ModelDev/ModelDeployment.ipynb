{
 "cells": [
  {
   "cell_type": "markdown",
   "metadata": {},
   "source": [
    "# ST1516 DevOps and Automation for AI\n",
    "\n",
    "### Lim Sheng Wei\n",
    "### p23091233\n",
    "### DAAA/2B/02"
   ]
  },
  {
   "cell_type": "markdown",
   "metadata": {},
   "source": [
    "## Deployed on: \n",
    "\n",
    "https://ca2-daaa2b02-2309123-limshengwei.onrender.com/v1/models/saved_cgan"
   ]
  },
  {
   "cell_type": "markdown",
   "metadata": {},
   "source": [
    "## Saving the Deep Learning Model in an appropriate format"
   ]
  },
  {
   "cell_type": "markdown",
   "metadata": {},
   "source": [
    "Here, the saved model is loaded in order to convert the h5 model into a format that is compatible for us to use"
   ]
  },
  {
   "cell_type": "code",
   "execution_count": 5,
   "metadata": {},
   "outputs": [
    {
     "name": "stdout",
     "output_type": "stream",
     "text": [
      "WARNING:tensorflow:No training configuration found in the save file, so the model was *not* compiled. Compile it manually.\n"
     ]
    },
    {
     "name": "stderr",
     "output_type": "stream",
     "text": [
      "WARNING:tensorflow:No training configuration found in the save file, so the model was *not* compiled. Compile it manually.\n",
      "WARNING:absl:Found untraced functions such as _jit_compiled_convolution_op, _jit_compiled_convolution_op, _jit_compiled_convolution_op while saving (showing 3 of 3). These functions will not be directly callable after loading.\n"
     ]
    },
    {
     "name": "stdout",
     "output_type": "stream",
     "text": [
      "INFO:tensorflow:Assets written to: saved_cgan/1737551983/assets\n"
     ]
    },
    {
     "name": "stderr",
     "output_type": "stream",
     "text": [
      "INFO:tensorflow:Assets written to: saved_cgan/1737551983/assets\n"
     ]
    },
    {
     "name": "stdout",
     "output_type": "stream",
     "text": [
      "Model successfully saved to saved_cgan/1737551983/\n"
     ]
    }
   ],
   "source": [
    "import time\n",
    "import tensorflow as tf\n",
    "\n",
    "# Load the .h5 model\n",
    "h5_model_path = \"./aug_c_gan_50.h5\"  \n",
    "model = tf.keras.models.load_model(h5_model_path)\n",
    "\n",
    "# Generate a timestamp for the directory\n",
    "ts = int(time.time())\n",
    "\n",
    "# Define the path for the SavedModel format\n",
    "file_path = f\"saved_cgan/{ts}/\"\n",
    "\n",
    "# Save the model in the SavedModel format\n",
    "tf.saved_model.save(model, file_path)\n",
    "print(f\"Model successfully saved to {file_path}\")\n"
   ]
  },
  {
   "cell_type": "markdown",
   "metadata": {},
   "source": [
    "## Creating Docker Container\n",
    "\n",
    "`docker pull python:3.8`\n"
   ]
  },
  {
   "cell_type": "markdown",
   "metadata": {},
   "source": [
    "`docker run -tid -v /var/run/docker.sock:/var/run/docker.sock --name CA2_DevOps_Server python:3.8`"
   ]
  },
  {
   "cell_type": "markdown",
   "metadata": {},
   "source": [
    "### Clone Gitlab Repository"
   ]
  },
  {
   "cell_type": "markdown",
   "metadata": {},
   "source": [
    "We clone the gitlab into the container"
   ]
  },
  {
   "cell_type": "markdown",
   "metadata": {},
   "source": [
    "`git clone https://gitlab.com/9123-devops/ca2-daaa2b02-2309123-limshengwei.git`"
   ]
  },
  {
   "cell_type": "markdown",
   "metadata": {},
   "source": [
    "## Network Connection"
   ]
  },
  {
   "cell_type": "markdown",
   "metadata": {},
   "source": [
    "### 1. Creating Network\n",
    "\n",
    "`docker network create ml_network`\n"
   ]
  },
  {
   "cell_type": "markdown",
   "metadata": {},
   "source": [
    "\n",
    "### 2. Connecting the server to network\n",
    "`docker network connect ml_network gan_server`\n"
   ]
  },
  {
   "cell_type": "markdown",
   "metadata": {},
   "source": [
    "### 3. Connect container to ml_network\n",
    "\n",
    "`docker network connect ml_network CA2_DevOps_Server`"
   ]
  },
  {
   "cell_type": "markdown",
   "metadata": {},
   "source": [
    "## Loading the Model"
   ]
  },
  {
   "cell_type": "code",
   "execution_count": 7,
   "metadata": {},
   "outputs": [
    {
     "name": "stdout",
     "output_type": "stream",
     "text": [
      "<tensorflow.python.saved_model.load.Loader._recreate_base_user_object.<locals>._UserObject object at 0x7f3adc11e100>\n"
     ]
    }
   ],
   "source": [
    "import tensorflow as tf\n",
    "\n",
    "# Define the correct path to the SavedModel directory\n",
    "saved_model_path = \"saved_cgan/1737551983\"  \n",
    "\n",
    "# Load the model using tf.saved_model.load\n",
    "loaded_model = tf.saved_model.load(saved_model_path)\n",
    "\n",
    "print(loaded_model)\n"
   ]
  },
  {
   "cell_type": "code",
   "execution_count": 46,
   "metadata": {},
   "outputs": [
    {
     "name": "stdout",
     "output_type": "stream",
     "text": [
      "ConcreteFunction signature_wrapper(*, input_13, input_12)\n",
      "  Args:\n",
      "    input_12: float32 Tensor, shape=(None, 1)\n",
      "    input_13: float32 Tensor, shape=(None, 100)\n",
      "  Returns:\n",
      "    {'conv2d_12': <1>}\n",
      "      <1>: float32 Tensor, shape=(None, 28, 28, 1)\n"
     ]
    }
   ],
   "source": [
    "import tensorflow as tf\n",
    "\n",
    "# Load the model\n",
    "saved_model_path = \"saved_cgan/1737551983\"\n",
    "loaded_model = tf.saved_model.load(saved_model_path)\n",
    "\n",
    "# Print model signature details\n",
    "print(loaded_model.signatures[\"serving_default\"])\n"
   ]
  },
  {
   "cell_type": "markdown",
   "metadata": {},
   "source": [
    "Model has been loaded successfully"
   ]
  },
  {
   "cell_type": "code",
   "execution_count": 5,
   "metadata": {},
   "outputs": [
    {
     "data": {
      "image/png": "[encoded data removed]",
      "text/plain": [
       "<Figure size 400x400 with 1 Axes>"
      ]
     },
     "metadata": {},
     "output_type": "display_data"
    }
   ],
   "source": [
    "import numpy as np\n",
    "import tensorflow as tf\n",
    "import matplotlib.pyplot as plt\n",
    "\n",
    "# Load the model\n",
    "saved_model_path = \"saved_cgan/1737551983\"  # Update with the correct path\n",
    "loaded_model = tf.saved_model.load(saved_model_path)\n",
    "\n",
    "# Create random latent vector (batch size 1, 100-dimensional)\n",
    "z_input = np.random.randn(1, 100).astype(np.float32)\n",
    "\n",
    "# Create class label (batch size 1, single value)\n",
    "class_label = np.array([[2]], dtype=np.float32)  # Example: Class label for letter 'F'\n",
    "\n",
    "\n",
    "# Run inference\n",
    "infer = loaded_model.signatures[\"serving_default\"]\n",
    "result = infer(\n",
    "    input_13=tf.convert_to_tensor(z_input), \n",
    "    input_12=tf.convert_to_tensor(class_label)\n",
    ")\n",
    "\n",
    "# Extract the generated image tensor\n",
    "generated_image = result[\"conv2d_12\"].numpy()  # Convert tensor to NumPy array\n",
    "\n",
    "# Reshape the output to match image dimensions (28x28 for EMNIST)\n",
    "generated_image = generated_image.reshape(28, 28)\n",
    "\n",
    "# ✅ Display the Image\n",
    "plt.figure(figsize=(4, 4))\n",
    "plt.imshow(generated_image, cmap=\"gray_r\")  # Use \"gray_r\" for handwritten-style images\n",
    "plt.axis(\"off\")  # Hide axes for better visualization\n",
    "plt.title(f\"Generated Image for Class {int(class_label[0][0])}\")\n",
    "plt.show()\n"
   ]
  },
  {
   "cell_type": "code",
   "execution_count": 9,
   "metadata": {},
   "outputs": [
    {
     "name": "stdout",
     "output_type": "stream",
     "text": [
      "[[2.]]\n",
      "[[-0.66033363 -1.3275741  -0.35811865 -0.80801034  0.4501019  -0.65510964\n",
      "  -0.9090529  -0.19921175 -1.9407017  -0.21180694  0.21217784 -0.39664844\n",
      "   1.685146    0.5388565  -0.07038426  0.7694007   1.7989404  -0.42708\n",
      "   0.02605198 -0.26450664 -0.32074875  0.28994524 -0.38675797 -1.3241186\n",
      "  -1.5398684  -0.9677521  -0.28883168  0.9710663  -0.25427818  1.0447718\n",
      "   1.4955736  -0.7118553  -0.5116709  -0.838021   -0.13256523  1.0437117\n",
      "   0.4804578   0.6979511   0.36426878  0.5110546  -2.0175517  -1.6343114\n",
      "  -0.32144976 -0.14276648  0.28728494 -1.0352694  -2.0169578  -0.23572254\n",
      "  -0.32241458 -0.90353477 -0.45628977 -0.01232607 -0.19965123  0.89536756\n",
      "  -0.71793604 -0.8149965  -0.3399551  -0.6664156  -0.25063232 -0.24196349\n",
      "   0.5153801   0.337844   -2.089727    1.3190407  -0.5814845   0.7470321\n",
      "  -1.0690717   1.1345075  -0.59279406 -0.3520374  -0.17612854  0.363146\n",
      "  -0.5144546  -0.13076268  0.56984174 -1.1900043  -1.9051349  -0.94957125\n",
      "  -0.08314706 -0.36280987  0.3945529  -1.335823   -0.89040065  0.04319295\n",
      "   1.6697794   1.5259421   0.32893097 -1.2930461   1.7969495  -0.84401596\n",
      "  -0.04482873  1.3073645   1.370193    1.9230852  -0.30507734  1.5757327\n",
      "  -0.4657023   0.1596044   1.6201752  -1.450929  ]]\n"
     ]
    }
   ],
   "source": [
    "print(class_label)\n",
    "print(z_input)"
   ]
  },
  {
   "cell_type": "code",
   "execution_count": 7,
   "metadata": {},
   "outputs": [
    {
     "name": "stdout",
     "output_type": "stream",
     "text": [
      "(1, 100)\n",
      "(1, 1)\n",
      "float32\n"
     ]
    }
   ],
   "source": [
    "print(z_input.shape)\n",
    "print(class_label.shape)"
   ]
  }
 ],
 "metadata": {
  "kernelspec": {
   "display_name": "Python 3",
   "language": "python",
   "name": "python3"
  },
  "language_info": {
   "codemirror_mode": {
    "name": "ipython",
    "version": 3
   },
   "file_extension": ".py",
   "mimetype": "text/x-python",
   "name": "python",
   "nbconvert_exporter": "python",
   "pygments_lexer": "ipython3",
   "version": "3.8.20"
  }
 },
 "nbformat": 4,
 "nbformat_minor": 2
}
